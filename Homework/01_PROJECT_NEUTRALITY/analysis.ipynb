{
 "cells": [
  {
   "cell_type": "markdown",
   "id": "579b567a-2b80-4bf1-8cc1-c514da76ca50",
   "metadata": {},
   "source": [
    "# (ADA) Homework 1: Scoring the Language Model Olympics\n",
    "\n",
    "---\n",
    "\n",
    "By the end of this homework, we expect you to be able to:\n",
    "\n",
    "- Load data and handle data using pandas;\n",
    "- Navigate the documentation of Python packages by yourself;\n",
    "- Filter and tidy up noisy real-world datasets;\n",
    "- Aggregate your data in different (and hopefully helpful) ways;\n",
    "- Create meaningful visualizations to analyze the data;\n",
    "- Communicate your findings in a clear and concise manner\n",
    "\n",
    "---\n",
    "\n",
    "**Important Dates.**\n",
    "\n",
    "- Homework release: Fri 04 Oct 2024\n",
    "- Homework due: Sat 18 Oct 2024, 23:59\n",
    "- Grade release: Mon 04 Nov 2024\n",
    "\n",
    "**Some rules**\n",
    "\n",
    "- You are allowed to use any built-in Python library that comes with Anaconda. If you want to use an external library, you may do so, but must justify your choice.\n",
    "- Make sure you use the data folder provided in the repository in read-only mode. (Or alternatively, be sure you don’t change any of the files.)\n",
    "- Be sure to provide a concise textual description of your thought process, the assumptions you made, the solution you implemented, and explanations for your answers. A notebook that only has code cells will not suffice. To avoid confusion: use short comments for longer code answers.\n",
    "- For questions containing the /Discuss:/ prefix, answer not with code, but with a textual explanation (in markdown).\n",
    "- Back up any hypotheses and claims with data, since this is an important aspect of the course.\n",
    "- Please write all your comments in English, and use meaningful variable names in your code. Your repo should have a single notebook (plus the required data files) in the master/main branch. If there are multiple notebooks present, we will not grade anything.\n",
    "- We will not run your notebook for you! Rather, we will grade it as is, which means that only the results contained in your evaluated code cells will be considered, and we will not see the results in unevaluated code cells. Thus, be sure to hand in a fully-run and evaluated notebook. In order to check whether everything looks as intended, you can check the rendered notebook on the GitHub website once you have pushed your solution there.\n",
    "- In continuation to the previous point, interactive plots, such as those generated using the ‘plotly’ package, should be strictly avoided! Make sure to print results and/or dataframes that confirm you have properly addressed the task.\n",
    "\n",
    "**A Note on using Language Models (LMs)**\n",
    "\n",
    "If you try hard enough, you will likely get away with cheating. Fortunately, our job is not to police, but rather to educate! So, please consider the following:\n",
    "- Presumably, you are taking this course to learn something! LMs are not always right ([they often fail in silly ways](https://community.openai.com/t/why-9-11-is-larger-than-9-9-incredible/869824/4)). This course should prepare you to detect when they are wrong!\n",
    "- Some of the TAs on this course literally published many works on detecting machine-generated text.\n",
    "---"
   ]
  },
  {
   "cell_type": "markdown",
   "id": "4f85896e-c0ae-4ae3-af41-46149faa2278",
   "metadata": {},
   "source": [
    "## Context\n",
    "\n",
    "Context\n",
    "AI is booming! Newspapers, influencers, and your relatives all agree that AI is important. But while almost everyone agrees that AI is the future, much is unclear about what that future looks like…\n",
    "\n",
    "Freshly graduated from the EPFL, you are hired by the Swiss government to advise on a large-scale “AI integration” initiative code-named **\"NEUTRALITY\"** (Navigating Efficient Upgrades Through Robust Artificial Learning Integration Techniques Yearly). Convinced by the stunning progress in language modeling, the government would like to battle the growing shortages in the education sector by using LMs. Your job description: investigate which LMs might be best suited!\n",
    "\n",
    "You are given the results of three LMs on the [“Massive Multitask Language Understanding (MMLU)”](https://arxiv.org/abs/2009.03300) dataset to compare. This famous dataset consists of 57 subjects with multiple-choice questions, covering diverse subjects like mathematics, computer science, history, and law. Most providers of state-of-the-art LMs use this dataset to showcase the versatility of their latest models. Unfortunately, Horta-Ribeiro, the intern responsible for collecting the results, didn’t take EPFL’s famous ADA course. As a result, the collected datasets are slightly corrupted.\n",
    "\n",
    "### A very brief primer on Language Models\n",
    "Language models (LMs) are sophisticated statistical models designed to understand and generate human-like text. At their core, LMs are trained to predict the most likely continuation of a given input text. For example, given the input \"The cat sat on the,\" an LM might predict \"mat\" as a likely continuation.\n",
    "LMs are trained on vast text samples from various sources, including books, websites, and social media. This extensive training allows them to capture patterns and relationships in language, enabling them to generate coherent and contextually appropriate text across a wide range of topics and styles.\n",
    "\n",
    "While LMs can produce text that appears to be written by intelligent humans, it's important to note that their capabilities can diverge from human intelligence in unexpected ways. They may sometimes generate factually incorrect information or struggle with complex reasoning tasks.\n",
    "\n",
    "Two key concepts in understanding LMs are:\n",
    "1. **Tokens**: LMs process text using \"tokens\" rather than individual characters. Tokens can be words, parts of words, or punctuation marks. For example, the sentence \"I love AI!\" might be tokenized as [\"I\", \"love\", \"AI\", \"!\"]. Tokenization is the first step in both training and using an LM.\n",
    "2. **Context**: The input text provided to an LM is called the \"context.\" This context informs the model's predictions or generations. A longer or more specific context often leads to more accurate and relevant outputs.\n",
    "\n",
    "[See: Wikipedia entry on language models](https://en.wikipedia.org/wiki/Large_language_model)\n",
    "\n",
    "###  Files for this assignment\n",
    "This assignment is divided into three tasks, each of which should bring you a step closer to providing a recommendation toward project NEUTRALITY’s objectives:\n",
    "\n",
    "- **Task 1**: Inspecting the results and getting your first model ranking\n",
    "- **Task 2**: Inspecting the underlying data used to generate the results for possible biases\n",
    "- **Task 3**: Learning about tokens and providing a final recommendation\n",
    "\n",
    "\n",
    "```\n",
    "📁 PROJECT_NEUTRALITY\n",
    "│\n",
    "├── 📄 analysis.ipynb (the file you're currently reading!)\n",
    "├── 📄 requirements.txt (install into your environment)\n",
    "│\n",
    "├── 📁 task_1\n",
    "├── 📁 task_2\n",
    "└── 📁 task_2.5\n",
    "```   \n",
    " "
   ]
  },
  {
   "cell_type": "code",
   "execution_count": 1,
   "id": "95ce4c12-9681-401e-9489-aa0765b19d5d",
   "metadata": {},
   "outputs": [],
   "source": [
    "# please make sure you install the packages listed in the requirements.txt file in your environment!\n",
    "# using pip\n",
    "# pip install -r requirements.txt\n",
    "#\n",
    "# using Conda:\n",
    "# conda create --name <env_name> --file requirements.txt\n",
    "#\n",
    "# some basic imports\n",
    "import os\n",
    "import pandas as pd\n",
    "import numpy as np\n",
    "import matplotlib.pyplot as plt\n",
    "import warnings\n",
    "from scipy.stats import ttest_ind"
   ]
  },
  {
   "cell_type": "markdown",
   "id": "e62594ad-4f5f-4a46-80bc-deacf66b62e9",
   "metadata": {},
   "source": [
    "## Task 1 (18 points): What's in an average anyway?\n",
    "\n",
    "The files needed to complete task 1 can be found in the folder \"`data/task_1/`:\n",
    "```\n",
    "task_1/\n",
    "│\n",
    "├── mmlu_data/\n",
    "│   └── test.csv\n",
    "│\n",
    "└── lm_scores/\n",
    "    ├── lm_X.csv\n",
    "    ├── lm_Y.csv\n",
    "    └── lm_Z.csv\n",
    "```\n",
    "\n",
    "We will start by loading, (manually) inspecting, and cleaning the data. Although it doesn't seem \"glamorous\" (nor is it particularly fun...) - manually inspecting data is extremely important! In fact, it's one of the few things most AI and Data Science researchers agree on :). Next, we will take a first pass on ordering our Olympic podium between three LMs."
   ]
  },
  {
   "cell_type": "markdown",
   "id": "f8605646-79fa-4cb3-8137-b6951bd1e064",
   "metadata": {},
   "source": [
    "### 1.1 (1 pt)\n",
    " \n",
    "Load the subfiles contained in the `mmlu_data` and `lm_scores` folders into separate dataframes:\n",
    "- `df_test`\n",
    "- `df_x`\n",
    "- `df_y`\n",
    "- `df_z`\n",
    "\n",
    "for each, print their sizes."
   ]
  },
  {
   "cell_type": "code",
   "execution_count": 38,
   "id": "e6ce5e96-7de6-463d-a00b-6a4b2cfc8cb3",
   "metadata": {},
   "outputs": [
    {
     "data": {
      "text/html": [
       "<div>\n",
       "<style scoped>\n",
       "    .dataframe tbody tr th:only-of-type {\n",
       "        vertical-align: middle;\n",
       "    }\n",
       "\n",
       "    .dataframe tbody tr th {\n",
       "        vertical-align: top;\n",
       "    }\n",
       "\n",
       "    .dataframe thead th {\n",
       "        text-align: right;\n",
       "    }\n",
       "</style>\n",
       "<table border=\"1\" class=\"dataframe\">\n",
       "  <thead>\n",
       "    <tr style=\"text-align: right;\">\n",
       "      <th></th>\n",
       "      <th>question</th>\n",
       "      <th>A</th>\n",
       "      <th>B</th>\n",
       "      <th>C</th>\n",
       "      <th>D</th>\n",
       "      <th>answer</th>\n",
       "      <th>subject</th>\n",
       "      <th>question_id</th>\n",
       "    </tr>\n",
       "  </thead>\n",
       "  <tbody>\n",
       "    <tr>\n",
       "      <th>0</th>\n",
       "      <td>Find the degree for the given field extension ...</td>\n",
       "      <td>0</td>\n",
       "      <td>4</td>\n",
       "      <td>2</td>\n",
       "      <td>6</td>\n",
       "      <td>B</td>\n",
       "      <td>abstract algebra</td>\n",
       "      <td>0</td>\n",
       "    </tr>\n",
       "    <tr>\n",
       "      <th>1</th>\n",
       "      <td>Let p = (1, 2, 5, 4)(2, 3) in S_5 . Find the i...</td>\n",
       "      <td>8</td>\n",
       "      <td>2</td>\n",
       "      <td>24</td>\n",
       "      <td>120</td>\n",
       "      <td>C</td>\n",
       "      <td>abstract algebra</td>\n",
       "      <td>1</td>\n",
       "    </tr>\n",
       "    <tr>\n",
       "      <th>2</th>\n",
       "      <td>Find all zeros in the indicated finite field o...</td>\n",
       "      <td>0</td>\n",
       "      <td>1</td>\n",
       "      <td>0,1</td>\n",
       "      <td>0,4</td>\n",
       "      <td>D</td>\n",
       "      <td>abstract algebra</td>\n",
       "      <td>2</td>\n",
       "    </tr>\n",
       "    <tr>\n",
       "      <th>3</th>\n",
       "      <td>Statement 1 | A factor group of a non-Abelian ...</td>\n",
       "      <td>True, True</td>\n",
       "      <td>False, False</td>\n",
       "      <td>True, False</td>\n",
       "      <td>False, True</td>\n",
       "      <td>B</td>\n",
       "      <td>abstract algebra</td>\n",
       "      <td>3</td>\n",
       "    </tr>\n",
       "    <tr>\n",
       "      <th>4</th>\n",
       "      <td>Find the product of the given polynomials in t...</td>\n",
       "      <td>2x^2 + 5</td>\n",
       "      <td>6x^2 + 4x + 6</td>\n",
       "      <td>0</td>\n",
       "      <td>x^2 + 1</td>\n",
       "      <td>B</td>\n",
       "      <td>abstract algebra</td>\n",
       "      <td>4</td>\n",
       "    </tr>\n",
       "  </tbody>\n",
       "</table>\n",
       "</div>"
      ],
      "text/plain": [
       "                                            question           A  \\\n",
       "0  Find the degree for the given field extension ...           0   \n",
       "1  Let p = (1, 2, 5, 4)(2, 3) in S_5 . Find the i...           8   \n",
       "2  Find all zeros in the indicated finite field o...           0   \n",
       "3  Statement 1 | A factor group of a non-Abelian ...  True, True   \n",
       "4  Find the product of the given polynomials in t...    2x^2 + 5   \n",
       "\n",
       "               B            C            D answer           subject  \\\n",
       "0              4            2            6      B  abstract algebra   \n",
       "1              2           24          120      C  abstract algebra   \n",
       "2              1          0,1          0,4      D  abstract algebra   \n",
       "3   False, False  True, False  False, True      B  abstract algebra   \n",
       "4  6x^2 + 4x + 6            0      x^2 + 1      B  abstract algebra   \n",
       "\n",
       "   question_id  \n",
       "0            0  \n",
       "1            1  \n",
       "2            2  \n",
       "3            3  \n",
       "4            4  "
      ]
     },
     "execution_count": 38,
     "metadata": {},
     "output_type": "execute_result"
    }
   ],
   "source": [
    "DATA_FOLDER = 'task_1/'\n",
    "\n",
    "# get the path to the data\n",
    "mmlu_DATASET = os.path.join(DATA_FOLDER, \"mmlu_data/test.csv\")\n",
    "lm_scoresX_DATASET = os.path.join(DATA_FOLDER, \"lm_scores/lm_X.csv\")\n",
    "lm_scoresY_DATASET = os.path.join(DATA_FOLDER, \"lm_scores/lm_Y.csv\")\n",
    "lm_scoresZ_DATASET = os.path.join(DATA_FOLDER, \"lm_scores/lm_Z.csv\")\n",
    "\n",
    "# load the data\n",
    "df_test = pd.read_csv(mmlu_DATASET)\n",
    "df_x = pd.read_csv(lm_scoresX_DATASET)\n",
    "df_y = pd.read_csv(lm_scoresY_DATASET)\n",
    "df_z = pd.read_csv(lm_scoresZ_DATASET)\n",
    "\n",
    "# print the data\n",
    "df_test.head()\n"
   ]
  },
  {
   "cell_type": "markdown",
   "id": "acbda57d-7df2-4e33-b31c-52bc0af6753e",
   "metadata": {},
   "source": [
    "### 1.2 (4 pt)\n",
    "Unfortunately, LMs don't always output the format we want. In the column `result`, the value should be one of A, B, C, or D. \n",
    "\n",
    "A. For each of the LM score dataframes, use a `value_counts()` operation and print the results. \n",
    "\n",
    "B. /Discuss:/ Inspect the results and describe the types of answer formats you see. Besides the \"expected\" case, you should be able to find at least four unexpected formats."
   ]
  },
  {
   "cell_type": "code",
   "execution_count": 39,
   "id": "79936f23",
   "metadata": {},
   "outputs": [
    {
     "name": "stdout",
     "output_type": "stream",
     "text": [
      "Value counts for df_x:\n",
      "result\n",
      "A                                                                                          2733\n",
      "A                                                                                          1657\n",
      "B                                                                                          1412\n",
      "Answer: A                                                                                  1398\n",
      "C                                                                                          1134\n",
      "                                                                                           ... \n",
      "we tend to remember unfinished tasks better than finished ones., so the answer is A           1\n",
      "only if the employee was referred to the program by the supervisor., so the answer is B       1\n",
      "a simultaneous event produced the fluctuation, so the answer is A                             1\n",
      "Random assignment, random selection, so the answer is B                                       1\n",
      "to interpret trends for management, so the answer is B                                        1\n",
      "Name: count, Length: 145, dtype: int64 \n",
      "\n",
      "Unexpected results in df_x:\n",
      "2               D \n",
      "3               B \n",
      "4        Answer: B\n",
      "7        Answer: D\n",
      "9        Answer: C\n",
      "           ...    \n",
      "13871    Answer: D\n",
      "13872    Answer: A\n",
      "13873    Answer: B\n",
      "13877           A \n",
      "13881    Answer: A\n",
      "Name: result, Length: 7479, dtype: object\n",
      "Value counts for df_y:\n",
      "result\n",
      "D                                                                                                                                                                                                                                                                                                                                                                                                                                           2894\n",
      "Answer: D                                                                                                                                                                                                                                                                                                                                                                                                                                   1718\n",
      "C                                                                                                                                                                                                                                                                                                                                                                                                                                           1701\n",
      "B                                                                                                                                                                                                                                                                                                                                                                                                                                           1240\n",
      "D                                                                                                                                                                                                                                                                                                                                                                                                                                           1145\n",
      "                                                                                                                                                                                                                                                                                                                                                                                                                                            ... \n",
      "Evaluation involves assessing all aspects of the programme., so the answer is D                                                                                                                                                                                                                                                                                                                                                                1\n",
      "Change in attitude, so the answer is A                                                                                                                                                                                                                                                                                                                                                                                                         1\n",
      "Readership, so the answer is D                                                                                                                                                                                                                                                                                                                                                                                                                 1\n",
      "The impact of environmental problems seems unlikely to diminish so that the relevance of environmental security for policy will likely increase, particularly multilateral action on common security concerns to achieve forms of social organization that are ecologically sustainable. In some sense, current practices of national security are an impediment to achieving environmental security for all people., so the answer is D       1\n",
      "PET, so the answer is C                                                                                                                                                                                                                                                                                                                                                                                                                        1\n",
      "Name: count, Length: 141, dtype: int64 \n",
      "\n",
      "Unexpected results in df_y:\n",
      "0        Answer: D\n",
      "2        Answer: D\n",
      "3              NaN\n",
      "6        Answer: C\n",
      "9               C \n",
      "           ...    \n",
      "13971    Answer: C\n",
      "13972           A \n",
      "13973           C \n",
      "13975    Answer: D\n",
      "13977           D \n",
      "Name: result, Length: 7135, dtype: object\n",
      "Value counts for df_z:\n",
      "result\n",
      "D                                               2257\n",
      "C                                               2191\n",
      "B                                               2127\n",
      "A                                               2060\n",
      "Answer: D                                        777\n",
      "                                                ... \n",
      "Ganesha, so the answer is B                        1\n",
      "Vishnu, so the answer is B                         1\n",
      "Servants, so the answer is B                       1\n",
      "Divine inspiration, so the answer is D             1\n",
      "Children younger than 10, so the answer is B       1\n",
      "Name: count, Length: 560, dtype: int64 \n",
      "\n",
      "Unexpected results in df_z:\n",
      "1        Answer: B\n",
      "3               B \n",
      "5        Answer: A\n",
      "10              C \n",
      "15       Answer: B\n",
      "           ...    \n",
      "13909           C \n",
      "13911           C \n",
      "13912    Answer: B\n",
      "13914    Answer: D\n",
      "13921           B \n",
      "Name: result, Length: 5288, dtype: object\n"
     ]
    }
   ],
   "source": [
    "# A\n",
    "#df_x\n",
    "print(\"Value counts for df_x:\")\n",
    "print(df_x['result'].value_counts(), \"\\n\")\n",
    "#print(\"index for : Random assignment, random selection, so the answer is B is \",df_x[df_x['result'] == \"Random assignment, random selection, so the answer is B\"].index)\n",
    "\n",
    "# filter df_x to show rows where 'result' is not 'A', 'B', 'C', or 'D'\n",
    "unexpected_results_df_x = df_x[~df_x['result'].isin(['A', 'B', 'C', 'D'])]\n",
    "# print the unexpected results\n",
    "print(\"Unexpected results in df_x:\")\n",
    "print(unexpected_results_df_x['result'])\n",
    "\n",
    "# find index for a long sentence answer\n",
    "#print(\"index for : Random assignment, random selection, so the answer is B is \",df_x[df_x['result'] == \"Random assignment, random selection, so the answer is B\"].index)\n",
    "\n",
    "#df_y\n",
    "print(\"Value counts for df_y:\")\n",
    "print(df_y['result'].value_counts(), \"\\n\")\n",
    "# filter df_y to show rows where 'result' is not 'A', 'B', 'C', or 'D'\n",
    "unexpected_results_df_y = df_y[~df_y['result'].isin(['A', 'B', 'C', 'D'])]\n",
    "# print the unexpected results\n",
    "print(\"Unexpected results in df_y:\")\n",
    "print(unexpected_results_df_y['result'])\n",
    "\n",
    "#df_z\n",
    "print(\"Value counts for df_z:\")\n",
    "print(df_z['result'].value_counts(), \"\\n\")\n",
    "# filter df_y to show rows where 'result' is not 'A', 'B', 'C', or 'D'\n",
    "unexpected_results_df_z = df_z[~df_z['result'].isin(['A', 'B', 'C', 'D'])]\n",
    "# print the unexpected results\n",
    "print(\"Unexpected results in df_z:\")\n",
    "print(unexpected_results_df_z['result'])"
   ]
  },
  {
   "cell_type": "code",
   "execution_count": 40,
   "id": "620f46cc",
   "metadata": {},
   "outputs": [],
   "source": [
    "### #B\n",
    "#After running ``value_counts()``, we can see that besides the expected answers (A, B, C, D), there are unexpected formats in the 'result' column:\n",
    "#- Prefixed answers: Some results are in the format \"Answer: B\" instead of just \"B\"\n",
    "#- Answers with extra spaces: Some results have extra spaces before or after the answer, e.g. \" B\" or \"B \"\n",
    "#- Answers with long sentences as in df_x: \"Random assignment, random selection, so the answer is B\" (index 12801 in df_x)\n",
    "#- Sometimes, there is no answer: NaN (index 3 in df_y)\n"
   ]
  },
  {
   "cell_type": "markdown",
   "id": "88c5551d-1968-427b-bdd6-51d996898e7c",
   "metadata": {},
   "source": [
    "### 1.3 (5 pt)\n",
    "Oh oh... That doesn't look great. Simply dropping all invalid answers seems overly wasteful, yet fixing all of these looks like a mess! Instead, let's focus for now on fixing just those answers of length < 10 characters that require only a single `str.replace()` operation. \n",
    "\n",
    "For example, if the answer looks like `--A--`, we could fix this by using the following simple function:\n",
    "\n",
    "```\n",
    "def clean_answer(s, pattern='-'):\n",
    "    return str(s).replace(pattern, '')\n",
    "\n",
    "dirty_answer = '--A--'\n",
    "clean_answer = clean_answer(dirty_answer)\n",
    "```\n",
    "\n",
    "A. Filter the three score dataframes to include only answers with less than 10 characters. Make a deep copy of the dataframes as you filter them.\n",
    "\n",
    "B. Modify the `clean_answer()` example function to clean the answers in the filtered data frames using the `apply()` functionality. Finally, make sure **all remaining answers are one of `A, B, C, or D`.**\n",
    "\n",
    "C. /Discuss:/ Compare the sizes of the original and filtered data frames. What do you see? Why might this be a problem?"
   ]
  },
  {
   "cell_type": "code",
   "execution_count": 41,
   "id": "aef1f933-20bf-426a-ac9d-a35e273b9bd2",
   "metadata": {},
   "outputs": [
    {
     "name": "stdout",
     "output_type": "stream",
     "text": [
      "Original df_x size: (13882, 2)\n",
      "Filtered df_x size: (13509, 2) \n",
      "\n",
      "Original df_y size: (13978, 2)\n",
      "Filtered df_y size: (13637, 2) \n",
      "\n",
      "Original df_z size: (13923, 2)\n",
      "Filtered df_z size: (12878, 2) \n",
      "\n"
     ]
    }
   ],
   "source": [
    "# A\n",
    "\n",
    "# filtre for answers with less than 10 characters\n",
    "df_x_filtered = df_x[df_x['result'].str.len() < 10].copy(deep=True)\n",
    "df_y_filtered = df_y[df_y['result'].str.len() < 10].copy(deep=True)\n",
    "df_z_filtered = df_z[df_z['result'].str.len() < 10].copy(deep=True)\n",
    "\n",
    "# print the sizes of the original and filtered dataframes to see the difference after filtration\n",
    "print(\"Original df_x size:\", df_x.shape)\n",
    "print(\"Filtered df_x size:\", df_x_filtered.shape, \"\\n\")\n",
    "\n",
    "print(\"Original df_y size:\", df_y.shape)\n",
    "print(\"Filtered df_y size:\", df_y_filtered.shape, \"\\n\")\n",
    "\n",
    "print(\"Original df_z size:\", df_z.shape)\n",
    "print(\"Filtered df_z size:\", df_z_filtered.shape, \"\\n\")\n"
   ]
  },
  {
   "cell_type": "code",
   "execution_count": 42,
   "id": "fd54f296",
   "metadata": {},
   "outputs": [
    {
     "name": "stdout",
     "output_type": "stream",
     "text": [
      "result\n",
      "A    5788\n",
      "B    2965\n",
      "C    2350\n",
      "D    2333\n",
      "Name: count, dtype: int64 \n",
      "\n",
      "result\n",
      "D    5757\n",
      "C    3242\n",
      "B    2519\n",
      "A    2033\n",
      "Name: count, dtype: int64 \n",
      "\n",
      "result\n",
      "D    3348\n",
      "C    3255\n",
      "B    3124\n",
      "A    3026\n",
      "Name: count, dtype: int64 \n",
      "\n",
      "Filtered and cleaned df_x size: 13436\n",
      "Filtered and cleaned df_y size: 13551\n",
      "Filtered and cleaned df_z size: 12753\n"
     ]
    }
   ],
   "source": [
    "# B\n",
    "import re\n",
    "# definition of the cleaning function\n",
    "def clean_answer(s):\n",
    "    s = str(s)\n",
    "    match = re.search(r'\\b[A-D]\\b', s)\n",
    "    \n",
    "    # return the matched letter if found, else return an empty string or NaN\n",
    "    return match.group(0) if match else ''\n",
    "\n",
    "# apply the cleaning function to the 'result' column of the filtered dataframes\n",
    "df_x_filtered['result'] = df_x_filtered['result'].apply(clean_answer)\n",
    "df_y_filtered['result'] = df_y_filtered['result'].apply(clean_answer)\n",
    "df_z_filtered['result'] = df_z_filtered['result'].apply(clean_answer)\n",
    "\n",
    "# check if all remaining answers are A, B, C, or D\n",
    "valid_answers = ['A', 'B', 'C', 'D']\n",
    "\n",
    "df_x_filtered = df_x_filtered[df_x_filtered['result'].isin(valid_answers)]\n",
    "df_y_filtered = df_y_filtered[df_y_filtered['result'].isin(valid_answers)]\n",
    "df_z_filtered = df_z_filtered[df_z_filtered['result'].isin(valid_answers)]\n",
    "\n",
    "print(df_x_filtered['result'].value_counts(), \"\\n\")\n",
    "print(df_y_filtered['result'].value_counts(), \"\\n\")\n",
    "print(df_z_filtered['result'].value_counts(), \"\\n\")\n",
    "\n",
    "# print the sizes after cleaning\n",
    "print(\"Filtered and cleaned df_x size:\", len(df_x_filtered))\n",
    "print(\"Filtered and cleaned df_y size:\", len(df_y_filtered))\n",
    "print(\"Filtered and cleaned df_z size:\", len(df_z_filtered))\n",
    "\n",
    "\n"
   ]
  },
  {
   "cell_type": "markdown",
   "id": "2415cd9b",
   "metadata": {},
   "source": [
    "C. /Discuss:/\n",
    "\n",
    "After filtering and cleaning, we can see the following changes in dataframe sizes:\n",
    "\n",
    "- df_x: went from 13 882 to 13 436\n",
    "- df_y: went from 13 978 to 13 551\n",
    "- df_z: went from 13 923 to 12 753\n",
    "  "
   ]
  },
  {
   "cell_type": "markdown",
   "id": "da1cf129-09dd-47b1-9737-2c4d57eb8853",
   "metadata": {},
   "source": [
    "### 1.4 (3 pt)\n",
    "\n",
    "Now that our answer columns are nicely formatted, let's take a look at model performance:\n",
    "\n",
    "A. Both the `MMLU` dataframes and the language model score data frames have the columns `question_id`. For each of the language model score data frames, use an inner join operation with the `df_test` dataframe on the `question_id` column.\n",
    "\n",
    "B. Add a new column to each of the resulting dataframes called `correct`, that checks if the model's answer in `result` is the same as the expected answer in the column `answer`. Then, print the average score of each model."
   ]
  },
  {
   "cell_type": "code",
   "execution_count": 43,
   "id": "e66b36f3-f5a4-4237-9b48-39b21716d7aa",
   "metadata": {},
   "outputs": [],
   "source": [
    "# A\n",
    "# do inner join between df_test and each filtered dataframe on 'question_id'\n",
    "df_x_merged = pd.merge(df_x_filtered, df_test, on='question_id', how='inner')\n",
    "df_y_merged = pd.merge(df_y_filtered, df_test, on='question_id', how='inner')\n",
    "df_z_merged = pd.merge(df_z_filtered, df_test, on='question_id', how='inner')"
   ]
  },
  {
   "cell_type": "code",
   "execution_count": 58,
   "id": "50b024d2",
   "metadata": {},
   "outputs": [
    {
     "name": "stdout",
     "output_type": "stream",
     "text": [
      "Average score for df_x: 76.75%\n",
      "Average score for df_y: 74.58%\n",
      "Average score for df_z: 66.33%\n"
     ]
    }
   ],
   "source": [
    "# B\n",
    "# add a 'correct' column that checks if the model's answer matches the expected answer\n",
    "df_x_merged['correct'] = df_x_merged['result'] == df_x_merged['answer']\n",
    "df_y_merged['correct'] = df_y_merged['result'] == df_y_merged['answer']\n",
    "df_z_merged['correct'] = df_z_merged['result'] == df_z_merged['answer']\n",
    "\n",
    "# calculate and print the average score for each model\n",
    "print(f\"Average score for df_x: {df_x_merged['correct'].mean():.2%}\")\n",
    "print(f\"Average score for df_y: {df_y_merged['correct'].mean():.2%}\")\n",
    "print(f\"Average score for df_z: {df_z_merged['correct'].mean():.2%}\")\n"
   ]
  },
  {
   "cell_type": "markdown",
   "id": "69decfd8-8083-4c2f-8263-a153d55efede",
   "metadata": {},
   "source": [
    "### 1.5 (5 pt)\n",
    "\n",
    "Hmmm, something doesn't seem quite right. Let's investigate how \"balanced\" this dataset is:\n",
    "\n",
    "A. For each of the 57 subjects in the MMLU, compare the number of questions answered by each model. Print the subjects for which there is a more than 10% difference.\n",
    "\n",
    "B. Propose and implement a reasonable way to rebalance the results. (e.g., while throwing away 100% of the results perfectly rebalances the results, it is not reasonable).\n",
    "\n",
    "C. Finally, print the updated accuracy on the rebalanced data.\n",
    "\n",
    "**hint:**:\n",
    "- (A) For a given subject, let model X and model Y have answered 181 and 200 questions respectively. You can consider this a 10% difference from the perspective of X since: (200 - 181) / 181 > 0.10"
   ]
  },
  {
   "cell_type": "code",
   "execution_count": 45,
   "id": "19463002-732b-405b-8b44-77f702bdb665",
   "metadata": {},
   "outputs": [
    {
     "name": "stdout",
     "output_type": "stream",
     "text": [
      "Subject: college chemistry, Difference: 16.67%\n",
      "Subject: college computer science, Difference: 16.67%\n",
      "Subject: computer security, Difference: 12.64%\n",
      "Subject: formal logic, Difference: 12.84%\n",
      "Subject: high school geography, Difference: 10.80%\n",
      "Subject: logical fallacies, Difference: 13.24%\n",
      "Subject: medical genetics, Difference: 10.11%\n",
      "Subject: moral disputes, Difference: 31.60%\n",
      "Subject: moral scenarios, Difference: 17.37%\n"
     ]
    }
   ],
   "source": [
    "# A\n",
    "\n",
    "# group by subject and count the questions answered\n",
    "questions_per_subject_x = df_x_merged.groupby('subject').size()\n",
    "questions_per_subject_y = df_y_merged.groupby('subject').size()\n",
    "questions_per_subject_z = df_z_merged.groupby('subject').size()\n",
    "\n",
    "# compare the number of questions answered by each model for each subject\n",
    "subjects = questions_per_subject_x.index\n",
    "unbalanced_subjects = []\n",
    "for subject in subjects:\n",
    "    x_count = questions_per_subject_x[subject]\n",
    "    y_count = questions_per_subject_y.get(subject, 0) # 0 for missing subject\n",
    "    z_count = questions_per_subject_z.get(subject, 0)\n",
    "\n",
    "    # calculate percentage difference between models X and Y\n",
    "    diff = abs(max(x_count, y_count, z_count) - min(x_count,y_count,z_count)) / min(x_count,y_count,z_count)\n",
    "    if diff > 0.10:\n",
    "        unbalanced_subjects.append(subject)\n",
    "        print(f\"Subject: {subject}, Difference: {diff:.2%}\")"
   ]
  },
  {
   "cell_type": "code",
   "execution_count": 70,
   "id": "2fb8c324",
   "metadata": {},
   "outputs": [
    {
     "name": "stdout",
     "output_type": "stream",
     "text": [
      "new df_x size: 1752\n",
      "new df_y size: 1752\n",
      "new df_z size: 1752\n",
      "df_x_cleaned size: 11527\n",
      "df_y_cleaned size: 11538\n",
      "df_z_cleaned size: 10949\n",
      "Final df_x size: 13279\n",
      "Final df_y size: 13290\n",
      "Final df_z size: 12701\n"
     ]
    }
   ],
   "source": [
    "# B. Rebalancing the dataset by downsampling the majority class for each unbalanced subject\n",
    "from sklearn.utils import resample\n",
    "\n",
    "# Initialize empty DataFrames to store balanced data\n",
    "df_x_balanced = pd.DataFrame()\n",
    "df_y_balanced = pd.DataFrame()\n",
    "df_z_balanced = pd.DataFrame()\n",
    "\n",
    "# Loop through each unbalanced subject and perform downsampling\n",
    "for subject in unbalanced_subjects:\n",
    "    # Get the data for the current subject for each model\n",
    "    df_x_subject = df_x_merged[df_x_merged['subject'] == subject]\n",
    "    df_y_subject = df_y_merged[df_y_merged['subject'] == subject]\n",
    "    df_z_subject = df_z_merged[df_z_merged['subject'] == subject]\n",
    "    \n",
    "    # Get the minimum number of questions answered among the three models\n",
    "    min_size = min(len(df_x_subject), len(df_y_subject), len(df_z_subject))\n",
    "    \n",
    "    # Downsample the majority class for each subject to match the minority class size\n",
    "    df_x_downsampled = resample(df_x_subject, replace=False, n_samples=min_size, random_state=42)\n",
    "    df_y_downsampled = resample(df_y_subject, replace=False, n_samples=min_size, random_state=42)\n",
    "    df_z_downsampled = resample(df_z_subject, replace=False, n_samples=min_size, random_state=42)\n",
    "    \n",
    "    # Append the downsampled data to the balanced DataFrames\n",
    "    df_x_balanced = pd.concat([df_x_balanced,df_x_downsampled])\n",
    "    df_y_balanced= pd.concat([df_y_balanced,df_y_downsampled])\n",
    "    df_z_balanced= pd.concat([df_z_balanced,df_z_downsampled])\n",
    "\n",
    "print(\"new df_x size:\", len(df_x_balanced))\n",
    "print(\"new df_y size:\", len(df_y_balanced))\n",
    "print(\"new df_z size:\", len(df_z_balanced))\n",
    "\n",
    "# Remove the original unbalanced rows from df_x_merged, df_y_merged, df_z_merged\n",
    "df_x_cleaned = df_x_merged[~df_x_merged['subject'].isin(unbalanced_subjects)].copy()\n",
    "df_y_cleaned = df_y_merged[~df_y_merged['subject'].isin(unbalanced_subjects)].copy()\n",
    "df_z_cleaned = df_z_merged[~df_z_merged['subject'].isin(unbalanced_subjects)].copy()\n",
    "print(\"df_x_cleaned size:\", len(df_x_cleaned))\n",
    "print(\"df_y_cleaned size:\", len(df_y_cleaned))\n",
    "print(\"df_z_cleaned size:\", len(df_z_cleaned))\n",
    "\n",
    "\n",
    "# Append the balanced data for those subjects\n",
    "df_x_final = pd.concat([df_x_cleaned, df_x_balanced])\n",
    "df_y_final = pd.concat([df_y_cleaned, df_y_balanced])\n",
    "df_z_final = pd.concat([df_z_cleaned, df_z_balanced])\n",
    "\n",
    "# Print the sizes of the final DataFrames to confirm the changes\n",
    "print(\"Final df_x size:\", len(df_x_final))\n",
    "print(\"Final df_y size:\", len(df_y_final))\n",
    "print(\"Final df_z size:\", len(df_z_final))\n"
   ]
  },
  {
   "cell_type": "code",
   "execution_count": 62,
   "id": "affc3746",
   "metadata": {},
   "outputs": [
    {
     "name": "stdout",
     "output_type": "stream",
     "text": [
      "Average score for df_x: 76.81%\n",
      "Average score for df_y: 74.58%\n",
      "Average score for df_z: 66.38%\n"
     ]
    }
   ],
   "source": [
    "# C\n",
    "# Print the accuracies with more context\n",
    "print(f\"Average score for df_x: {df_x_final['correct'].mean():.2%}\")\n",
    "print(f\"Average score for df_y: {df_y_final['correct'].mean():.2%}\")\n",
    "print(f\"Average score for df_z: {df_z_final['correct'].mean():.2%}\")\n"
   ]
  },
  {
   "cell_type": "markdown",
   "id": "fe67ee67",
   "metadata": {},
   "source": [
    "Before vs After undersampling\n",
    "\n",
    "size before | size after \n",
    "--------|--------\n",
    "13436   | 13279\n",
    "13551   | 13290\n",
    "12753   | 12701\n",
    "\n",
    "accuracy before | accuracy after\n",
    "---------------|---------------\n",
    "76.75%        | 76.81%\n",
    "74.58%        | 74.58%\n",
    "66.33%        | 66.38%\n"
   ]
  },
  {
   "cell_type": "code",
   "execution_count": 65,
   "id": "6d142603",
   "metadata": {},
   "outputs": [
    {
     "name": "stdout",
     "output_type": "stream",
     "text": [
      "Difference: 0.00%\n",
      "Difference: 0.00%\n",
      "Difference: 0.00%\n",
      "Difference: 0.00%\n",
      "Difference: 0.00%\n",
      "Difference: 0.00%\n",
      "Difference: 0.00%\n",
      "Difference: 0.00%\n",
      "Difference: 0.00%\n"
     ]
    }
   ],
   "source": [
    "# check if it is really balanced\n",
    "\n",
    "# group by subject and count the questions answered\n",
    "questions_per_subject_x = df_x_balanced.groupby('subject').size()\n",
    "questions_per_subject_y = df_y_balanced.groupby('subject').size()\n",
    "questions_per_subject_z = df_z_balanced.groupby('subject').size()\n",
    "\n",
    "# compare the number of questions answered by each model for each subject\n",
    "subjects = questions_per_subject_x.index\n",
    "for subject in unbalanced_subjects:\n",
    "    x_count = questions_per_subject_x[subject]\n",
    "    y_count = questions_per_subject_y.get(subject, 0) # 0 for missing subject\n",
    "    z_count = questions_per_subject_z.get(subject, 0)\n",
    "\n",
    "    # calculate percentage difference between models X and Y\n",
    "    diff = abs(max(x_count, y_count, z_count) - min(x_count,y_count,z_count)) / min(x_count,y_count,z_count)\n",
    "    print(f\"Difference: {diff:.2%}\")\n"
   ]
  },
  {
   "cell_type": "markdown",
   "id": "292b2f61-0529-4b6d-a3a7-af786a4d79ae",
   "metadata": {},
   "source": [
    "## Task 2 (26 points): What do you mean A > D > B > C...?\n",
    "\n",
    "Nice work! Having successfully inspected, cleaned, and rebalanced the provided data, you head over to director of the government's NEUTRALITY project. Ms. Sakota is happy with your work so far, but worried that the sloppy intern might have done more undetected damage. To be sure, she orders a new set of evaluations of all models on both MMLU and another dataset.\n",
    "\n",
    "After cleaning up and rebalancing, you are left with the concatenated score files in the second folder `task_2`:\n",
    "```\n",
    "task_2/\n",
    "│\n",
    "└── lm_scores_mmlu.csv\n",
    "│\n",
    "└── lm_scores_other.csv\n",
    "```\n",
    "\n",
    "Each has a new column called `model_name`, which is one of `X, Y` or `Z`.\n",
    "\n",
    "\n",
    "\n",
    "_NOTE: **only** use data from `task_2` and `task_2_5` for this assignment! The values in `lm_scores_mmlu.csv` will NOT be the same as the dataframes you finished in task 1. This is due to \"randomness\" or \"temperature\" in language model inference. This can slightly shift around generative results. (Conveniently: it also ensures any mistakes made in Task 1 don't propogate further ;) )_"
   ]
  },
  {
   "cell_type": "code",
   "execution_count": 2,
   "id": "a889a76b-e034-4d2f-929e-0ef1f250a0a0",
   "metadata": {},
   "outputs": [],
   "source": [
    "# PROVIDED CODE\n",
    "df_mmlu = pd.read_csv('task_2/lm_scores_mmlu.csv')\n",
    "df_other = pd.read_csv('task_2/lm_scores_other.csv')"
   ]
  },
  {
   "cell_type": "markdown",
   "id": "c31edde3-cc91-4d08-81c7-b5e98cf0ff9c",
   "metadata": {},
   "source": [
    "### 2.1 (4 pt)\n",
    "\n",
    "Let's explore the new results:\n",
    "\n",
    "A. Compute the mean accuracy and standard errors of each model on both datasets and print the results.\n",
    "\n",
    "B. Then, show your results in a bar plot using standard errors with a 95% confidence interval around the mean. Make sure the plot is easy to read and well annotated.\n",
    "\n",
    "C. /Discuss:/ the plot you created: (i) can you say that one of the models is the best? (ii) is there anything that seems odd?"
   ]
  },
  {
   "cell_type": "code",
   "execution_count": 3,
   "id": "56fe8cca-acd1-4f5e-a938-e8d3a850f220",
   "metadata": {},
   "outputs": [
    {
     "name": "stdout",
     "output_type": "stream",
     "text": [
      "Mean accuracy for df_mmlu: 0.7204\n",
      "Standard error for df_mmlu: 0.0024\n",
      "Mean accuracy for df_other: 0.7269\n",
      "Standard error for df_other: 0.0042\n"
     ]
    }
   ],
   "source": [
    "# A\n",
    "mean_accuracy_mmlu = df_mmlu[\"correct\"].mean()\n",
    "standard_error_mmlu = df_mmlu[\"correct\"].std()/np.sqrt(len(df_mmlu))\n",
    "mean_accuracy_other = df_other[\"correct\"].mean()\n",
    "standard_error_other = df_other[\"correct\"].std()/np.sqrt(len(df_other))\n",
    "\n",
    "print(f\"Mean accuracy for df_mmlu: {mean_accuracy_mmlu:.4f}\")\n",
    "print(f\"Standard error for df_mmlu: {standard_error_mmlu:.4f}\")\n",
    "\n",
    "print(f\"Mean accuracy for df_other: {mean_accuracy_other:.4f}\")\n",
    "print(f\"Standard error for df_other: {standard_error_other:.4f}\")"
   ]
  },
  {
   "cell_type": "code",
   "execution_count": 9,
   "id": "d3a176c6",
   "metadata": {},
   "outputs": [
    {
     "data": {
      "image/png": "[encoded data removed]",
      "text/plain": [
       "<Figure size 800x600 with 1 Axes>"
      ]
     },
     "metadata": {},
     "output_type": "display_data"
    }
   ],
   "source": [
    "# B\n",
    "# Mean accuracies and standard errors for each model\n",
    "mean_accuracies = [mean_accuracy_mmlu, mean_accuracy_other]\n",
    "standard_errors = [standard_error_mmlu, standard_error_other]\n",
    "models = ['Model mmlu', 'Other']\n",
    "\n",
    "# Bar plot\n",
    "plt.figure(figsize=(8, 6))\n",
    "plt.bar(models, mean_accuracies, yerr=[1.96 * sem for sem in standard_errors], capsize=10, color=['hotpink', 'pink'])\n",
    "\n",
    "# Labels and title\n",
    "plt.xlabel('Models')\n",
    "plt.ylabel('Accuracy')\n",
    "plt.title('Mean Accuracy of Models with 95% Confidence Interval')\n",
    "plt.ylim(0.6, 0.8)  #To adjust\n",
    "\n",
    "# Add value labels on top of the bars\n",
    "for i, v in enumerate(mean_accuracies):\n",
    "    plt.text(i, v + 0.01, f'{v:.2%}', ha='center', fontweight='bold')\n",
    "\n",
    "# Show the plot\n",
    "plt.show()\n"
   ]
  },
  {
   "cell_type": "markdown",
   "id": "65c9fbfe",
   "metadata": {},
   "source": [
    "C. /Discuss:/\n",
    "\n",
    "- There is no better model than the other (see mean accuracy just slightly better)\n",
    "- performance of each model is consistent (see standard errors)"
   ]
  },
  {
   "cell_type": "markdown",
   "id": "eee0ec62-f2d1-4bae-a6f6-221320d602cb",
   "metadata": {},
   "source": [
    "### 2.2 (5 pt)\n",
    "\n",
    "Ms. Sakota has assured you that both datasets contain questions of similar difficulty, so, what could be going on here?\n",
    "\n",
    "A. What is the distribution of correct answers (A, B, C, D) for each dataset? Create a bar chart to visualize this.\n",
    "\n",
    "B. Perform a chi-square test at $\\alpha = 0.05$, of independence to determine if there's a significant difference in the distribution of correct answers between the two datasets. What do you conclude?\n",
    "\n",
    "**hints**:\n",
    "- for (A), keep in mind that df_mmlu and df_other contain the results of all models, i.e., the `question_id` column is duplicated.\n",
    "- for (A), take care to clearly annotate the bar chart, e.g., title, y-label, legend.\n",
    "- for (B), clearly state the null hypothesis and alternative hypothesis\n",
    "- use the `chi2_contingency` function from `scipy.stats`\n",
    "- format your results from answer (A) as a 2D array"
   ]
  },
  {
   "cell_type": "code",
   "execution_count": 11,
   "id": "30b16f70-93e0-4a19-8a6d-b3ae5a75ae65",
   "metadata": {},
   "outputs": [
    {
     "data": {
      "image/png": "[encoded data removed]",
      "text/plain": [
       "<Figure size 1200x800 with 1 Axes>"
      ]
     },
     "metadata": {},
     "output_type": "display_data"
    }
   ],
   "source": [
    "# A\n",
    "#drop duplicated questions\n",
    "df_mmlu_unique = df_mmlu.drop_duplicates(subset='question_id')\n",
    "df_other_unique = df_other.drop_duplicates(subset='question_id')\n",
    "# set width of bar \n",
    "barWidth = 0.25\n",
    "fig = plt.subplots(figsize =(12, 8)) \n",
    "\n",
    "# set height of bar \n",
    "answers_mmlu = [df_mmlu_unique[df_mmlu_unique[\"answer\"]==\"A\"].shape[0], \n",
    "                df_mmlu_unique[df_mmlu_unique[\"answer\"]==\"B\"].shape[0], \n",
    "                df_mmlu_unique[df_mmlu_unique[\"answer\"]==\"C\"].shape[0], \n",
    "                df_mmlu_unique[df_mmlu_unique[\"answer\"]==\"D\"].shape[0]] \n",
    "answers_other = [df_other_unique[df_other_unique[\"answer\"]==\"A\"].shape[0], \n",
    "                 df_other_unique[df_other_unique[\"answer\"]==\"B\"].shape[0], \n",
    "                 df_other_unique[df_other_unique[\"answer\"]==\"C\"].shape[0], \n",
    "                 df_other_unique[df_other_unique[\"answer\"]==\"D\"].shape[0]] \n",
    "\n",
    "# Set position of bar on X axis \n",
    "br1 = np.arange(len(answers_mmlu) )\n",
    "br2 = [x + barWidth for x in br1] \n",
    "\n",
    "# Make the plot\n",
    "plt.bar(br1, answers_mmlu, color ='hotpink', width = barWidth, \n",
    "        edgecolor ='grey', label ='mmlu') \n",
    "plt.bar(br2, answers_other, color ='pink', width = barWidth, \n",
    "        edgecolor ='grey', label ='other') \n",
    "\n",
    "# Adding Xticks \n",
    "plt.xlabel('Model', fontweight ='bold', fontsize = 15) \n",
    "plt.ylabel('Number of answer', fontweight ='bold', fontsize = 15) \n",
    "plt.xticks([r + barWidth/2 for r in range(len(answers_mmlu))], \n",
    "        ['A', 'B', 'C', 'D'])\n",
    "\n",
    "plt.legend()\n",
    "plt.show() \n",
    "\n"
   ]
  },
  {
   "cell_type": "code",
   "execution_count": 12,
   "id": "92392cd7",
   "metadata": {},
   "outputs": [
    {
     "name": "stdout",
     "output_type": "stream",
     "text": [
      "Chi-square statistic: 629.3958675644751\n",
      "P-value: 4.270849602795191e-136\n",
      "Degrees of freedom: 3\n",
      "Expected frequencies: \n",
      " [[2034.97534778 3071.76085409 3274.5772889  3314.68650922]\n",
      " [ 654.02465222  987.23914591 1052.4227111  1065.31349078]]\n",
      "Reject the null hypothesis: There is a significant difference in the distribution of correct answers between the two datasets.\n"
     ]
    }
   ],
   "source": [
    "# B\n",
    "from scipy.stats import chi2_contingency\n",
    "\n",
    "# 2D array with the counts of correct answers for both mmlu and other models\n",
    "contingency_table = np.array([answers_mmlu, answers_other])\n",
    "\n",
    "# Chi-square test\n",
    "chi2, p, dof, expected = chi2_contingency(contingency_table)\n",
    "\n",
    "# Print results\n",
    "print(f\"Chi-square statistic: {chi2}\")\n",
    "print(f\"P-value: {p}\")\n",
    "print(f\"Degrees of freedom: {dof}\")\n",
    "print(\"Expected frequencies: \\n\", expected)\n",
    "\n",
    "# Test evaluation\n",
    "alpha = 0.05\n",
    "if p < alpha:\n",
    "    print(\"Reject the null hypothesis: There is a significant difference in the distribution of correct answers between the two datasets.\")\n",
    "else:\n",
    "    print(\"Fail to reject the null hypothesis: There is no significant difference in the distribution of correct answers between the two datasets.\")\n"
   ]
  },
  {
   "cell_type": "markdown",
   "id": "2d3125ad-5a7e-44e7-999a-a0ff99855d39",
   "metadata": {},
   "source": [
    "### 2.3 (7 pt)\n",
    "\n",
    "Let's dive in deeper:\n",
    "\n",
    "A. What is language model X's mean accuracy conditioned on the four answer options for each dataset?\n",
    "\n",
    "B. Compare LM X's performance when the correct answer is \"A\" between the two datasets. Use a T-test with CI = 0.95. What do you conclude?\n",
    "\n",
    "C. Compare LM X's performance when the correct answer is \"A\" vs. \"C or D\" for each dataset. Use a T-test with CI = 0.95. What do you conclude?"
   ]
  },
  {
   "cell_type": "code",
   "execution_count": 22,
   "id": "39097a11-8efe-46d1-8bc3-5587bb58d199",
   "metadata": {},
   "outputs": [
    {
     "name": "stdout",
     "output_type": "stream",
     "text": [
      "Mean accuracy for df_mmlu (Model X) when the correct answer is 'A': 0.9727\n",
      "Mean accuracy for df_mmlu (Model X) when the correct answer is 'B': 0.7992\n",
      "Mean accuracy for df_mmlu (Model X) when the correct answer is 'C': 0.7079\n",
      "Mean accuracy for df_mmlu (Model X) when the correct answer is 'D': 0.6336\n",
      "Mean accuracy for df_other (Model X) when the correct answer is 'A': 0.9740\n",
      "Mean accuracy for df_other (Model X) when the correct answer is 'B': 0.8065\n",
      "Mean accuracy for df_other (Model X) when the correct answer is 'C': 0.6764\n",
      "Mean accuracy for df_other (Model X) when the correct answer is 'D': 0.6037\n"
     ]
    }
   ],
   "source": [
    "# A\n",
    "def compute_mean_accuracy_model_X (df, correct_answer, model_name):\n",
    "    \"\"\"\n",
    "    Compute the mean accuracy for a given correct answer.\n",
    "    \"\"\"\n",
    "    correct_rows = df[df['answer'] == correct_answer]\n",
    "    correct_rows = df[(df['answer'] == correct_answer) & (df['model_name'] == model_name)]\n",
    "\n",
    "    return (correct_rows['result'] == correct_rows['answer']).mean()\n",
    "\n",
    "mean_accuracy_mmlu_A = compute_mean_accuracy_model_X(df_mmlu, 'A', 'X')\n",
    "mean_accuracy_mmlu_B = compute_mean_accuracy_model_X(df_mmlu, 'B', 'X')\n",
    "mean_accuracy_mmlu_C = compute_mean_accuracy_model_X(df_mmlu, 'C', 'X')\n",
    "mean_accuracy_mmlu_D = compute_mean_accuracy_model_X(df_mmlu, 'D', 'X')\n",
    "\n",
    "mean_accuracy_other_A = compute_mean_accuracy_model_X(df_other, 'A', 'X')\n",
    "mean_accuracy_other_B = compute_mean_accuracy_model_X(df_other, 'B', 'X')\n",
    "mean_accuracy_other_C = compute_mean_accuracy_model_X(df_other, 'C', 'X')\n",
    "mean_accuracy_other_D = compute_mean_accuracy_model_X(df_other, 'D', 'X')\n",
    "\n",
    "print(\"Mean accuracy for df_mmlu (Model X) when the correct answer is 'A': {:.4f}\".format(mean_accuracy_mmlu_A))\n",
    "print(\"Mean accuracy for df_mmlu (Model X) when the correct answer is 'B': {:.4f}\".format(mean_accuracy_mmlu_B))\n",
    "print(\"Mean accuracy for df_mmlu (Model X) when the correct answer is 'C': {:.4f}\".format(mean_accuracy_mmlu_C))\n",
    "print(\"Mean accuracy for df_mmlu (Model X) when the correct answer is 'D': {:.4f}\".format(mean_accuracy_mmlu_D))\n",
    "\n",
    "print(\"Mean accuracy for df_other (Model X) when the correct answer is 'A': {:.4f}\".format(mean_accuracy_other_A))\n",
    "print(\"Mean accuracy for df_other (Model X) when the correct answer is 'B': {:.4f}\".format(mean_accuracy_other_B))\n",
    "print(\"Mean accuracy for df_other (Model X) when the correct answer is 'C': {:.4f}\".format(mean_accuracy_other_C))\n",
    "print(\"Mean accuracy for df_other (Model X) when the correct answer is 'D': {:.4f}\".format(mean_accuracy_other_D))"
   ]
  },
  {
   "cell_type": "code",
   "execution_count": 19,
   "id": "9ae67c09",
   "metadata": {},
   "outputs": [
    {
     "name": "stdout",
     "output_type": "stream",
     "text": [
      "T-statistic: -0.2106\n",
      "P-value: 0.8332\n",
      "Fail to reject the null hypothesis: There is no significant difference in performance for answer 'A' between the two datasets for model X.\n"
     ]
    }
   ],
   "source": [
    "# B\n",
    "\n",
    "from scipy.stats import ttest_ind\n",
    "\n",
    "# Get rows where the correct answer is \"A\" in both datasets\n",
    "df_mmlu_A = df_mmlu[(df_mmlu['answer'] == 'A') & (df_mmlu['model_name'] == 'X')]\n",
    "df_other_A = df_other[(df_other['answer'] == 'A') & (df_other['model_name'] == 'X')]\n",
    "\n",
    "# Calculate accuracy for each dataset where answer is A (for Model X)\n",
    "accuracy_mmlu_A = (df_mmlu_A['result'] == df_mmlu_A['answer']).astype(int)\n",
    "accuracy_other_A = (df_other_A['result'] == df_other_A['answer']).astype(int)\n",
    "\n",
    "#  T-test to compare accuracy for answer A between both datasets (for Model X)\n",
    "t_stat, p_value = ttest_ind(accuracy_mmlu_A, accuracy_other_A)\n",
    "\n",
    "print(\"T-statistic: {:.4f}\".format(t_stat))\n",
    "print(\"P-value: {:.4f}\".format(p_value))\n",
    "\n",
    "# Confidence Interval evaluation\n",
    "alpha = 0.05\n",
    "if p_value < alpha:\n",
    "    print(\"Reject the null hypothesis: There is a significant difference in performance for answer 'A' between the two datasets for model X.\")\n",
    "else:\n",
    "    print(\"Fail to reject the null hypothesis: There is no significant difference in performance for answer 'A' between the two datasets for model X.\")\n"
   ]
  },
  {
   "cell_type": "code",
   "execution_count": 21,
   "id": "636af6a6",
   "metadata": {},
   "outputs": [
    {
     "name": "stdout",
     "output_type": "stream",
     "text": [
      "df_mmlu - T-statistic: 25.5564, P-value: 0.0000\n",
      "Reject the null hypothesis: There is a significant difference in performance between 'A' and 'C or D' in df_mmlu.\n",
      "df_other - T-statistic: 21.6670, P-value: 0.0000\n",
      "Reject the null hypothesis: There is a significant difference in performance between 'A' and 'C or D' in df_other.\n"
     ]
    }
   ],
   "source": [
    "# C\n",
    "\n",
    "# Function compares performance for A vs (C or D)\n",
    "def compare_A_vs_CD(df, model_name):\n",
    "    # Filter rows for answer A and (C or D)\n",
    "    df_A = df[(df['answer'] == 'A') & (df['model_name'] == model_name)]\n",
    "    df_CD = df[(df['answer'].isin(['C', 'D'])) & (df['model_name'] == model_name)]\n",
    "    \n",
    "    # Calculate accuracy\n",
    "    accuracy_A = (df_A['result'] == df_A['answer']).astype(int)\n",
    "    accuracy_CD = (df_CD['result'] == df_CD['answer']).astype(int)\n",
    "    \n",
    "    # T-test to compare accuracy between A and (C or D)\n",
    "    t_stat, p_value = ttest_ind(accuracy_A, accuracy_CD)\n",
    "    \n",
    "    return t_stat, p_value\n",
    "\n",
    "# For both datasets\n",
    "t_stat_mmlu, p_value_mmlu = compare_A_vs_CD(df_mmlu, 'X')\n",
    "t_stat_other, p_value_other = compare_A_vs_CD(df_other, 'X')\n",
    "\n",
    "# Print the results\n",
    "print(\"df_mmlu - T-statistic: {:.4f}, P-value: {:.4f}\".format(t_stat_mmlu, p_value_mmlu))\n",
    "if p_value_mmlu < alpha:\n",
    "    print(\"Reject the null hypothesis: There is a significant difference in performance between 'A' and 'C or D' in df_mmlu.\")\n",
    "else:\n",
    "    print(\"Fail to reject the null hypothesis: There is no significant difference in performance between 'A' and 'C or D' in df_mmlu.\")\n",
    "\n",
    "# Print results for df_other using .format()\n",
    "print(\"df_other - T-statistic: {:.4f}, P-value: {:.4f}\".format(t_stat_other, p_value_other))\n",
    "if p_value_other < alpha:\n",
    "    print(\"Reject the null hypothesis: There is a significant difference in performance between 'A' and 'C or D' in df_other.\")\n",
    "else:\n",
    "    print(\"Fail to reject the null hypothesis: There is no significant difference in performance between 'A' and 'C or D' in df_other.\")\n"
   ]
  },
  {
   "cell_type": "markdown",
   "id": "33848ff9-2604-4e48-b5df-3207dc81e9a9",
   "metadata": {},
   "source": [
    "### 2.4 (2 pt)\n",
    "\n",
    "What an intriguing finding! \n",
    "\n",
    "A. Print the mean accuracies conditioned on the correct answer for all LMs for each dataset.\n",
    "\n",
    "B. /Discuss:/ What do you observe?"
   ]
  },
  {
   "cell_type": "code",
   "execution_count": 23,
   "id": "ec53ce2c-866e-440a-ac79-7813cb756782",
   "metadata": {},
   "outputs": [
    {
     "name": "stdout",
     "output_type": "stream",
     "text": [
      "Mean accuracy for df_mmlu (all models) when the correct answer is 'A': 0.7465\n",
      "Mean accuracy for df_mmlu (all models) when the correct answer is 'B': 0.7095\n",
      "Mean accuracy for df_mmlu (all models) when the correct answer is 'C': 0.7035\n",
      "Mean accuracy for df_mmlu (all models) when the correct answer is 'D': 0.7330\n",
      "Mean accuracy for df_other (all models) when the correct answer is 'A': 0.7600\n",
      "Mean accuracy for df_other (all models) when the correct answer is 'B': 0.7127\n",
      "Mean accuracy for df_other (all models) when the correct answer is 'C': 0.7006\n",
      "Mean accuracy for df_other (all models) when the correct answer is 'D': 0.7337\n"
     ]
    }
   ],
   "source": [
    "# A\n",
    "def compute_mean_accuracy_all_models (df, correct_answer):\n",
    "    \"\"\"\n",
    "    Compute the mean accuracy for a given correct answer.\n",
    "    \"\"\"\n",
    "    correct_rows = df[df['answer'] == correct_answer]\n",
    "    correct_rows = df[df['answer'] == correct_answer]\n",
    "\n",
    "    return (correct_rows['result'] == correct_rows['answer']).mean()\n",
    "\n",
    "mean_accuracy_mmlu_A = compute_mean_accuracy_all_models(df_mmlu, 'A')\n",
    "mean_accuracy_mmlu_B = compute_mean_accuracy_all_models(df_mmlu, 'B')\n",
    "mean_accuracy_mmlu_C = compute_mean_accuracy_all_models(df_mmlu, 'C')\n",
    "mean_accuracy_mmlu_D = compute_mean_accuracy_all_models(df_mmlu, 'D')\n",
    "\n",
    "mean_accuracy_other_A = compute_mean_accuracy_all_models(df_other, 'A')\n",
    "mean_accuracy_other_B = compute_mean_accuracy_all_models(df_other, 'B')\n",
    "mean_accuracy_other_C = compute_mean_accuracy_all_models(df_other, 'C')\n",
    "mean_accuracy_other_D = compute_mean_accuracy_all_models(df_other, 'D')\n",
    "\n",
    "print(\"Mean accuracy for df_mmlu (all models) when the correct answer is 'A': {:.4f}\".format(mean_accuracy_mmlu_A))\n",
    "print(\"Mean accuracy for df_mmlu (all models) when the correct answer is 'B': {:.4f}\".format(mean_accuracy_mmlu_B))\n",
    "print(\"Mean accuracy for df_mmlu (all models) when the correct answer is 'C': {:.4f}\".format(mean_accuracy_mmlu_C))\n",
    "print(\"Mean accuracy for df_mmlu (all models) when the correct answer is 'D': {:.4f}\".format(mean_accuracy_mmlu_D))\n",
    "\n",
    "print(\"Mean accuracy for df_other (all models) when the correct answer is 'A': {:.4f}\".format(mean_accuracy_other_A))\n",
    "print(\"Mean accuracy for df_other (all models) when the correct answer is 'B': {:.4f}\".format(mean_accuracy_other_B))\n",
    "print(\"Mean accuracy for df_other (all models) when the correct answer is 'C': {:.4f}\".format(mean_accuracy_other_C))\n",
    "print(\"Mean accuracy for df_other (all models) when the correct answer is 'D': {:.4f}\".format(mean_accuracy_other_D))"
   ]
  },
  {
   "cell_type": "markdown",
   "id": "4ce58e47",
   "metadata": {},
   "source": [
    "B. /Discuss:/\n",
    "\n",
    "- \"A\" answers are easier: \n",
    "  - Across all models (more specifically Model X), the highest performance is observed when the correct answer is \"A\". This could indicate that \"A\" is an easier answer option for the models to identify across both datasets.\n",
    "- Drop in accuracy for \"C\" and \"D\" answers: \n",
    "  - Both datasets present this. Especially Model X that struggles more with these answers. This could indicate that some types of questions or answer patterns associated with \"C\" and \"D\" are harder for the models to process.\n",
    "- Dataset consistency: \n",
    "  - The overall similar performance across datasets suggests that both datasets have comparable difficulty levels, as Ms. Sakota noted.\n",
    "\n"
   ]
  },
  {
   "cell_type": "markdown",
   "id": "ccdd9d3c-5a03-4b30-84f7-a7dfbee1373e",
   "metadata": {},
   "source": [
    "### 2.5 (2 pt)\n",
    "\n",
    "Concerned with your findings so far, you quickly consult with Ms. Sakota. After thinking it over, Ms. Sakota concludes that more tests are needed. She orders a second round of MMLU results. However, the clever Ms. Sakota thinks of the following twist: while keeping questions fixed, she randomly permutes the position of the correct answer. The new results can be found in the folder `data/task_2_5/`:\n",
    "```\n",
    "task_2_5/\n",
    "│\n",
    "└── lm_scores_mmlu_shuffle.csv\n",
    "```\n",
    "\n",
    "/Discuss:/ Why would Ms. Sakota do this?"
   ]
  },
  {
   "cell_type": "markdown",
   "id": "64cc586a",
   "metadata": {},
   "source": [
    "/Discuss:/"
   ]
  },
  {
   "cell_type": "markdown",
   "id": "b9150ae0-dbaa-4c88-bf80-ec03127c6945",
   "metadata": {},
   "source": [
    "### 2.6 (4 pt)\n",
    "\n",
    "Increasingly sceptical of the language models' performance, you read up on proper testing practices. You stumble upon the concept of [test-rested stability](https://en.wikipedia.org/wiki/Repeatability), which roughtly states that:\n",
    "\n",
    "\"_Measurements taken by a single person or instrument on the same item, under the same conditions, and in a short period of time, should have the same results._\"\n",
    "\n",
    "In our case, we would assume an LM would have the same performance on a given question regardless of the correct answer position. One way of testing this is by using the following metric:\n",
    "\n",
    "$$\\text{test-retest metric} = \\frac{1}{N}\\sum_{i=1}^N \\frac{1}{M}\\sum_{j=1}^M c^i_0 c_j^i,$$\n",
    "\n",
    "where $c^i_0 \\in \\{0, 1\\}$ indicates whether the model answers the $i^{\\text{th}}$ question correctly (1 if correct, 0 if incorrect). $c_j^i$ indicates whether the model answers the $i^{\\text{th}}$ question correctly in the $j^{\\text{th}}$ shuffled version of the answer label content. Finally, $M$ is the total number of shuffles and $N$ is the dataset size.\n",
    "\n",
    "Task: compute the test-retest metric for each language model using the original `lm_scores_mmlu.csv` file and the new `lm_scores_mmlu_shuffle.csv` file. Using a bar plot, visualize your results by comparing the accuracy of the original `lm_scores_mmlu.csv` and the test-retest scores.\n",
    "\n",
    "**hints**\n",
    "- what is $M$ in our case?\n",
    "\n",
    "(bonus: no points, but so much sweet, sweet knowledge - check out [the following article](https://arxiv.org/pdf/2406.19470v1))"
   ]
  },
  {
   "cell_type": "code",
   "execution_count": null,
   "id": "5b55fcfc-6de9-4cd3-bf2d-bde399ae2fbc",
   "metadata": {},
   "outputs": [],
   "source": []
  },
  {
   "cell_type": "markdown",
   "id": "b70bee6e-0c81-4f5a-b1a8-16a96aa2ae17",
   "metadata": {},
   "source": [
    "### 2.7 (2 pt)\n",
    "\n",
    "A. Using the unshuffled data: For each LM, print the distribution of the answers they give as well as the accuracy conditioned on the answer they give.\n",
    "\n",
    "B. /Discuss:/ Describe what you observe\n",
    "\n",
    "[bonus: not scored, but again _that sweet, sweet knowledge_] Could you think of a plausible explanation?"
   ]
  },
  {
   "cell_type": "code",
   "execution_count": null,
   "id": "4956581b-d047-46cb-ae71-1508a9a0b466",
   "metadata": {},
   "outputs": [],
   "source": [
    "# A"
   ]
  },
  {
   "cell_type": "markdown",
   "id": "65639228",
   "metadata": {},
   "source": [
    "B. /Discuss:/"
   ]
  },
  {
   "cell_type": "markdown",
   "id": "ce3186fe-ef8e-4af3-9a07-a6081d454e5a",
   "metadata": {},
   "source": [
    "## Task 3 (16 points): What do Questions and Answers look like for a Language Model?\n",
    "\n",
    "While you feel pretty good about the tests you conducted so far, something still bothers you: what if the language models don't see the data like you do? Suddenly, you receive a phone call from a wise AI sage in the West, _Westoda_:\n",
    "\n",
    "```\n",
    "\"Hmm, correct you are, young padawan, to question how the world is seen by large language models! Simple 'text' it is not, hmm? No, no, no! Characters and words, the way of puny humans, this is not, heh heh heh.\n",
    "\n",
    "'Tokens', they use, yes! Mysterious and powerful, these tokens are. Expand our vocabulary, they do, beyond the simple 'a to Z'. Chunky blocks of text, they become, yes! 'Hello world', a simple phrase it may seem. But to a language model, '[24912, 2375]' it might appear, yes! Confusing, it is, hmm?\n",
    "\n",
    "Wise, it would be, to explore these MMLU data points through the eyes of a language model, you think? Yes, yes! Much to learn, there is. The ways of the tokens, understand you must, if truly comprehend the great LMs, you wish to.\n",
    "Meditate on this, you should. The force of natural language processing, strong it is. But patience, you must have, my young padawan. For only through great study and contemplation, will the mysteries of the tokens reveal themselves to you, they will. Yes, hmmm!\"\n",
    "```\n",
    "\n",
    "Admittingly, Westoda at times speaks in riddles… However, he was explaining a crucial aspect of modern LMs called [Tokenization](https://learn.microsoft.com/en-us/dotnet/ai/conceptual/understanding-tokens):\n",
    "\n",
    "\n",
    "“Tokens are words, character sets, or combinations of words and punctuation that are used by [language models (LMs)] to decompose text into. Tokenization is the first step in training”\n",
    "\n",
    "Instead of characters, LMs process natural language using “tokens”. While this is useful for a number of reasons, it does at times introduce some “unintuitive” behavior…"
   ]
  },
  {
   "cell_type": "code",
   "execution_count": null,
   "id": "e2c66517-938b-4331-9eea-1b23fe4ad9e7",
   "metadata": {},
   "outputs": [],
   "source": [
    "# PROVIDED CODE\n",
    "\n",
    "try:\n",
    "    import tiktoken\n",
    "except Exception as e:\n",
    "    print('installing tiktoken package')\n",
    "    \n",
    "    !pip install tiktoken\n",
    "    \n",
    "    import tiktoken\n",
    "\n",
    "def tokenize_text(s):\n",
    "    enc = tiktoken.encoding_for_model('gpt-4o')\n",
    "    tokens = enc.encode(str(s))\n",
    "    return tokens\n",
    "\n",
    "example_string = 'hello world'\n",
    "print(f'humans see: \"{example_string}\" --> language models see: {tokenize_text(example_string)}')"
   ]
  },
  {
   "cell_type": "markdown",
   "id": "3c8019ee-7d52-496f-afff-c96f2f9db08c",
   "metadata": {},
   "source": [
    "### 3.1 (5 pt)\n",
    "\n",
    "Use the provided code in the cell above to \"see the world through the eyes of a language model\":\n",
    "\n",
    "A. Tokenize the questions of the original MMLU data provided in task 1: `task_1/mmlu_data/test.csv` and plot the token distribution (the frequency of each token).\n",
    "\n",
    "B. Same as (A), but now for the answers in columns (columns \"A\", \"B\", \"C\", and \"D\").\n",
    "\n",
    "C. Isolate the tokens for the strings \"A\", \"B\", \"C\", and \"D\", then, for their occurances in both questions and answers, print their relative distribution to each other.\n",
    "\n",
    "**hint**\n",
    "- There are a _lot_ of tokens, consider using a cutoff point and log scale\n",
    "- For (c), they should sum to 1"
   ]
  },
  {
   "cell_type": "code",
   "execution_count": null,
   "id": "a9a1e97b-3a31-41b1-a9c3-fb84cb1740d9",
   "metadata": {},
   "outputs": [],
   "source": [
    "# A"
   ]
  },
  {
   "cell_type": "code",
   "execution_count": null,
   "id": "fe1f8be8",
   "metadata": {},
   "outputs": [],
   "source": [
    "# B"
   ]
  },
  {
   "cell_type": "code",
   "execution_count": null,
   "id": "cd392df7",
   "metadata": {},
   "outputs": [],
   "source": [
    "# C"
   ]
  },
  {
   "cell_type": "markdown",
   "id": "a674929c-68e1-4cd8-97b3-efa0cdae4874",
   "metadata": {},
   "source": [
    "### 3.2 (3 pt)\n",
    "\n",
    "What if the number of \"A\", \"B\", \"C\", and \"D\" tokens in the question and answer pairs could influence a language model's decisions?\n",
    "\n",
    "A. For each combined question-answers pair, compute: \n",
    "1. the number of \"A\", \"B\", \"C\", and \"D\" tokens; and\n",
    "2. the total number of tokens.\n",
    "3. then, group by the \"correct\" answer and compute the mean frequency of A, B, C, and D tokens and the total number of tokens. \n",
    "4. finally, print your results\n",
    "\n",
    "B. /Discuss:/ What do you think of the hypothesis that the frequency of A, B, C, and D tokens could influence answers?\n"
   ]
  },
  {
   "cell_type": "code",
   "execution_count": null,
   "id": "25419cc1-f058-4c51-a0aa-577272b8b578",
   "metadata": {},
   "outputs": [],
   "source": [
    "# A"
   ]
  },
  {
   "cell_type": "markdown",
   "id": "3ea8a279",
   "metadata": {},
   "source": [
    "B. /Discuss:/"
   ]
  },
  {
   "cell_type": "markdown",
   "id": "af25ef95-d2ce-4112-87f7-8b0a52755e2a",
   "metadata": {},
   "source": [
    "### 3.3 (4 pt)\n",
    "\n",
    "Three of the most important considerations when deciding between language models are:\n",
    "\n",
    "Quality\n",
    "Costs\n",
    "Speed\n",
    "\n",
    "So far, much of your analysis has focused on quality. However, the government has indicated that they are quite concerned about both the total costs and speed as well. Specifically, it has been brought to their attention that a new `turbo` model has been launched! \n",
    "\n",
    "This model is both cheaper and faster than the models you evaluated so far. However, there is a catch: the context length* is much smaller than that of the other LMS. Namely, it can only process **300** tokens during inference. Meanwhile, the other models can process up to 100K tokens! \n",
    "\n",
    "*_The “context length” refers to the number of tokens that can be given to an LM as input._\n",
    "\n",
    "A. Are there subjects where using the cheaper model might be problematic? I.e., where part of the question and answer(s) might not fit completely in the context?\n",
    "\n",
    "B. /Discuss:/ Can you think of a strategy that would balance the needs of the government?\n",
    "\n",
    "**hint**:\n",
    "- An LM needs to have both the question and the different answer options in its context"
   ]
  },
  {
   "cell_type": "code",
   "execution_count": null,
   "id": "a88a6fa3-2735-44d7-9944-076cc9f679ed",
   "metadata": {},
   "outputs": [],
   "source": [
    "# A"
   ]
  },
  {
   "cell_type": "markdown",
   "id": "47f8a44a",
   "metadata": {},
   "source": [
    "B. /Dicsuss:/"
   ]
  },
  {
   "cell_type": "markdown",
   "id": "110f07bf-558f-467c-8f66-d88db561d455",
   "metadata": {},
   "source": [
    "### 3.4 (4 pt)\n",
    "\n",
    "/Discuss:/ The time has come to give your final recommendation on the use of LMs in education to the government! Taking into account everything you analyzed in all the preceding tasks (1, 2, and 3), please write a short recommendation consisting of 4 bullet points discussing your concerns.\n",
    "\n",
    "**hint**\n",
    "- Try to use the MECE framework: _Mutually Exclusive Collectively Exhaustive_"
   ]
  },
  {
   "cell_type": "markdown",
   "id": "434a5fa5",
   "metadata": {},
   "source": [
    "/Discuss:/\n",
    "1. \n",
    "\n",
    "2. \n",
    "\n",
    "3. \n",
    "\n",
    "4. "
   ]
  }
 ],
 "metadata": {
  "kernelspec": {
   "display_name": "ADA1",
   "language": "python",
   "name": "python3"
  },
  "language_info": {
   "codemirror_mode": {
    "name": "ipython",
    "version": 3
   },
   "file_extension": ".py",
   "mimetype": "text/x-python",
   "name": "python",
   "nbconvert_exporter": "python",
   "pygments_lexer": "ipython3",
   "version": "3.12.2"
  }
 },
 "nbformat": 4,
 "nbformat_minor": 5
}
