{
 "cells": [
  {
   "cell_type": "markdown",
   "metadata": {},
   "source": [
    "## Importations"
   ]
  },
  {
   "cell_type": "code",
   "execution_count": null,
   "metadata": {},
   "outputs": [],
   "source": [
    "import pandas as pd\n",
    "import numpy as np\n",
    "import matplotlib.pyplot as plt\n",
    "%matplotlib inline\n",
    "import seaborn as sns\n",
    "import math\n",
    "\n",
    "data_folder = './Data/'\n",
    "\n",
    "\n",
    "data = pd.read_csv(data_folder+'data.csv')"
   ]
  },
  {
   "cell_type": "markdown",
   "metadata": {},
   "source": [
    "## Plots\n",
    "Always check that plots have:\n",
    "- xlabel\n",
    "- ylabel\n",
    "- title"
   ]
  },
  {
   "cell_type": "markdown",
   "metadata": {},
   "source": [
    "### Continous variable"
   ]
  },
  {
   "cell_type": "code",
   "execution_count": null,
   "metadata": {},
   "outputs": [],
   "source": [
    "# Matplotlib\n",
    "import matplotlib.pyplot as plt\n",
    "\n",
    "# Labels:\n",
    "plt.xlabel('This is the x label')\n",
    "plt.ylabel('This is the y label')\n",
    "plt.title('This is the title')\n",
    "\n",
    "# scatter\n",
    "plt.scatter(data['x label'], data['y label'], s = 2) #s is the size of the dots\n",
    "#ADD plt.xlabel('x label')\n",
    "#AND plt.ylabel('y label')\n",
    "\n",
    "# Seaborn\n",
    "import seaborn as sns\n",
    "sns.jointplot(x=data['x label'], y=data['y label'], kind=\"hex\"]) \n",
    "# kind values :\n",
    "# hex, scatter, hist, kde, reg, resid"
   ]
  },
  {
   "cell_type": "markdown",
   "metadata": {},
   "source": [
    "#### Seaborn\n",
    "\n",
    "why use seaborn:\n",
    "- better to visualize the relationship between 2 variables"
   ]
  },
  {
   "cell_type": "markdown",
   "metadata": {},
   "source": [
    "### Two variables, continuous and categorical"
   ]
  },
  {
   "cell_type": "markdown",
   "metadata": {},
   "source": [
    "#### Barplot"
   ]
  },
  {
   "cell_type": "code",
   "execution_count": null,
   "metadata": {},
   "outputs": [],
   "source": [
    "ax = sns.barplot(x='x label', y='y label', data=data.loc[data['x label'].isin(['research1', 'research2', 'research3', 'etc'])])\n",
    "## infos on that:\n",
    "# errorbars by default"
   ]
  },
  {
   "cell_type": "markdown",
   "metadata": {},
   "source": [
    "#### Boxplot"
   ]
  },
  {
   "cell_type": "code",
   "execution_count": null,
   "metadata": {},
   "outputs": [],
   "source": [
    "ax = sns.boxplot(x=\"x label\", y=\"y label\", data=data.loc[data['x label'].isin(['research1', 'research2', 'research3', 'etc'])])"
   ]
  },
  {
   "cell_type": "markdown",
   "metadata": {},
   "source": [
    "#### Violinplot"
   ]
  },
  {
   "cell_type": "code",
   "execution_count": null,
   "metadata": {},
   "outputs": [],
   "source": [
    "ax = sns.violinplot(x=\"x label\", y=\"y label\", data=data.loc[data['x label'].isin(['research1', 'research2', 'research3', 'etc'])])"
   ]
  }
 ],
 "metadata": {
  "kernelspec": {
   "display_name": "base",
   "language": "python",
   "name": "python3"
  },
  "language_info": {
   "name": "python",
   "version": "3.12.4"
  }
 },
 "nbformat": 4,
 "nbformat_minor": 2
}
