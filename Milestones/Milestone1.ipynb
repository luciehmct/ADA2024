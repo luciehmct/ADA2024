{
 "cells": [
  {
   "cell_type": "code",
   "execution_count": 2,
   "metadata": {},
   "outputs": [
    {
     "name": "stdout",
     "output_type": "stream",
     "text": [
      "       0          1           2                           3           4  5   \\\n",
      "0  975900  /m/03vyhn  2001-08-24                    Akooshay  1958-08-26  F   \n",
      "1  975900  /m/03vyhn  2001-08-24  Lieutenant Melanie Ballard  1974-08-15  F   \n",
      "2  975900  /m/03vyhn  2001-08-24         Desolation Williams  1969-06-15  M   \n",
      "3  975900  /m/03vyhn  2001-08-24          Sgt Jericho Butler  1967-09-12  M   \n",
      "4  975900  /m/03vyhn  2001-08-24             Bashira Kincaid  1977-09-25  F   \n",
      "\n",
      "      6           7                   8     9           10          11  \\\n",
      "0  1.620         NaN      Wanda De Jesus  42.0  /m/0bgchxw  /m/0bgcj3x   \n",
      "1  1.780  /m/044038p  Natasha Henstridge  27.0   /m/0jys3m  /m/0bgchn4   \n",
      "2  1.727     /m/0x67            Ice Cube  32.0   /m/0jys3g  /m/0bgchn_   \n",
      "3  1.750         NaN       Jason Statham  33.0  /m/02vchl6  /m/0bgchnq   \n",
      "4  1.650         NaN         Clea DuVall  23.0  /m/02vbb3r  /m/0bgchp9   \n",
      "\n",
      "           12  \n",
      "0  /m/03wcfv7  \n",
      "1   /m/0346l4  \n",
      "2  /m/01vw26l  \n",
      "3   /m/034hyc  \n",
      "4   /m/01y9xg  \n",
      "          0           1                                                  2  \\\n",
      "0    975900   /m/03vyhn                                     Ghosts of Mars   \n",
      "1   3196793   /m/08yl5d  Getting Away with Murder: The JonBenét Ramsey ...   \n",
      "2  28463795  /m/0crgdbh                                        Brun bitter   \n",
      "3   9363483  /m/0285_cd                                   White Of The Eye   \n",
      "4    261236   /m/01mrr1                                  A Woman in Flames   \n",
      "\n",
      "            3           4      5                                   6  \\\n",
      "0  2001-08-24  14010832.0   98.0  {\"/m/02h40lc\": \"English Language\"}   \n",
      "1  2000-02-16         NaN   95.0  {\"/m/02h40lc\": \"English Language\"}   \n",
      "2        1988         NaN   83.0  {\"/m/05f_3\": \"Norwegian Language\"}   \n",
      "3        1987         NaN  110.0  {\"/m/02h40lc\": \"English Language\"}   \n",
      "4        1983         NaN  106.0   {\"/m/04306rv\": \"German Language\"}   \n",
      "\n",
      "                                           7  \\\n",
      "0  {\"/m/09c7w0\": \"United States of America\"}   \n",
      "1  {\"/m/09c7w0\": \"United States of America\"}   \n",
      "2                     {\"/m/05b4w\": \"Norway\"}   \n",
      "3             {\"/m/07ssc\": \"United Kingdom\"}   \n",
      "4                    {\"/m/0345h\": \"Germany\"}   \n",
      "\n",
      "                                                   8  \n",
      "0  {\"/m/01jfsb\": \"Thriller\", \"/m/06n90\": \"Science...  \n",
      "1  {\"/m/02n4kr\": \"Mystery\", \"/m/03bxz7\": \"Biograp...  \n",
      "2  {\"/m/0lsxr\": \"Crime Fiction\", \"/m/07s9rl0\": \"D...  \n",
      "3  {\"/m/01jfsb\": \"Thriller\", \"/m/0glj9q\": \"Erotic...  \n",
      "4                            {\"/m/07s9rl0\": \"Drama\"}  \n",
      "               0          1\n",
      "0  Stuart Little  /m/0k3w9c\n",
      "1  Stuart Little  /m/0k3wcx\n",
      "2  Stuart Little  /m/0k3wbn\n",
      "3       John Doe  /m/0jyg35\n",
      "4       John Doe  /m/0k2_zn\n",
      "          0                                                  1\n",
      "0  23890098  Shlykov, a hard-working taxi driver and Lyosha...\n",
      "1  31186339  The nation of Panem consists of a wealthy Capi...\n",
      "2  20663735  Poovalli Induchoodan  is sentenced for six yea...\n",
      "3   2231378  The Lemon Drop Kid , a New York City swindler,...\n",
      "4    595909  Seventh-day Adventist Church pastor Michael Ch...\n",
      "                         0                                                  1\n",
      "0  absent_minded_professor  {\"char\": \"Professor Philip Brainard\", \"movie\":...\n",
      "1  absent_minded_professor  {\"char\": \"Professor Keenbean\", \"movie\": \"Richi...\n",
      "2  absent_minded_professor  {\"char\": \"Dr. Reinhardt Lane\", \"movie\": \"The S...\n",
      "3  absent_minded_professor  {\"char\": \"Dr. Harold Medford\", \"movie\": \"Them!...\n",
      "4  absent_minded_professor  {\"char\": \"Daniel Jackson\", \"movie\": \"Stargate\"...\n"
     ]
    }
   ],
   "source": [
    "import pandas as pd\n",
    "import os\n",
    "\n",
    "# Define the path to the MovieSummaries folder\n",
    "base_path = '../MovieSummaries/'\n",
    "\n",
    "# List the files\n",
    "character_metadata_file = os.path.join(base_path, 'character.metadata.tsv')\n",
    "movie_metadata_file = os.path.join(base_path, 'movie.metadata.tsv')\n",
    "name_clusters_file = os.path.join(base_path, 'name.clusters.txt')\n",
    "plot_summaries_file = os.path.join(base_path, 'plot_summaries.txt')\n",
    "tvtropes_clusters_file = os.path.join(base_path, 'tvtropes.clusters.txt')\n",
    "\n",
    "# Load the character metadata file\n",
    "character_metadata = pd.read_csv(character_metadata_file, sep='\\t', header=None)\n",
    "\n",
    "# Load the movie metadata file\n",
    "movie_metadata = pd.read_csv(movie_metadata_file, sep='\\t', header=None)\n",
    "\n",
    "# Load the name clusters file (if it's tab-separated)\n",
    "name_clusters = pd.read_csv(name_clusters_file, sep='\\t', header=None)\n",
    "\n",
    "# Load the plot summaries file (assuming it’s in a specific format)\n",
    "plot_summaries = pd.read_csv(plot_summaries_file, sep='\\t', header=None)\n",
    "\n",
    "# Load the TV Tropes clusters file\n",
    "tvtropes_clusters = pd.read_csv(tvtropes_clusters_file, sep='\\t', header=None)\n",
    "\n",
    "# Display the first few rows of each file to inspect the data\n",
    "print(character_metadata.head())\n",
    "print(movie_metadata.head())\n",
    "print(name_clusters.head())\n",
    "print(plot_summaries.head())\n",
    "print(tvtropes_clusters.head())\n"
   ]
  },
  {
   "cell_type": "code",
   "execution_count": 3,
   "metadata": {},
   "outputs": [
    {
     "name": "stdout",
     "output_type": "stream",
     "text": [
      "              0                                                  1\n",
      "38057    442668  The film is a parody of the historical spectac...\n",
      "33028  28743583  A shy Argentine librarian Juan Dahlman  dreams...\n",
      "1067    4032727  Elisabeth Shue plays the title character, Moll...\n",
      "41149  26087436  Pundarikudu  is from a pious Brahmin family wh...\n",
      "3588   32214275  The titular character is Isabel, a woman with ...\n",
      "count    42303.000000\n",
      "mean      1784.034229\n",
      "std       1808.925536\n",
      "min         99.000000\n",
      "25%        508.000000\n",
      "50%       1079.000000\n",
      "75%       2604.500000\n",
      "max      28159.000000\n",
      "Name: summary_length, dtype: float64\n"
     ]
    },
    {
     "data": {
      "image/png": "[encoded data removed]",
      "text/plain": [
       "<Figure size 640x480 with 1 Axes>"
      ]
     },
     "metadata": {},
     "output_type": "display_data"
    }
   ],
   "source": [
    "# Check a random sample of plot summaries\n",
    "print(plot_summaries.sample(5))\n",
    "\n",
    "# Calculate the length of each plot summary\n",
    "plot_summaries['summary_length'] = plot_summaries[1].apply(len)\n",
    "\n",
    "# Display summary statistics for the lengths\n",
    "print(plot_summaries['summary_length'].describe())\n",
    "\n",
    "# Plot the distribution of plot summary lengths\n",
    "import matplotlib.pyplot as plt\n",
    "\n",
    "plt.hist(plot_summaries['summary_length'], bins=30, color='blue', edgecolor='black')\n",
    "plt.title('Distribution of Plot Summary Lengths')\n",
    "plt.xlabel('Plot Summary Length')\n",
    "plt.ylabel('Frequency')\n",
    "plt.show()\n"
   ]
  },
  {
   "cell_type": "code",
   "execution_count": 4,
   "metadata": {},
   "outputs": [
    {
     "name": "stdout",
     "output_type": "stream",
     "text": [
      "        0        1_x           2                           3           4  5  \\\n",
      "0  975900  /m/03vyhn  2001-08-24                    Akooshay  1958-08-26  F   \n",
      "1  975900  /m/03vyhn  2001-08-24  Lieutenant Melanie Ballard  1974-08-15  F   \n",
      "2  975900  /m/03vyhn  2001-08-24         Desolation Williams  1969-06-15  M   \n",
      "3  975900  /m/03vyhn  2001-08-24          Sgt Jericho Butler  1967-09-12  M   \n",
      "4  975900  /m/03vyhn  2001-08-24             Bashira Kincaid  1977-09-25  F   \n",
      "\n",
      "       6           7                   8     9          10          11  \\\n",
      "0  1.620         NaN      Wanda De Jesus  42.0  /m/0bgchxw  /m/0bgcj3x   \n",
      "1  1.780  /m/044038p  Natasha Henstridge  27.0   /m/0jys3m  /m/0bgchn4   \n",
      "2  1.727     /m/0x67            Ice Cube  32.0   /m/0jys3g  /m/0bgchn_   \n",
      "3  1.750         NaN       Jason Statham  33.0  /m/02vchl6  /m/0bgchnq   \n",
      "4  1.650         NaN         Clea DuVall  23.0  /m/02vbb3r  /m/0bgchp9   \n",
      "\n",
      "           12                                                1_y  \\\n",
      "0  /m/03wcfv7  Set in the second half of the 22nd century, th...   \n",
      "1   /m/0346l4  Set in the second half of the 22nd century, th...   \n",
      "2  /m/01vw26l  Set in the second half of the 22nd century, th...   \n",
      "3   /m/034hyc  Set in the second half of the 22nd century, th...   \n",
      "4   /m/01y9xg  Set in the second half of the 22nd century, th...   \n",
      "\n",
      "   summary_length  \n",
      "0            2181  \n",
      "1            2181  \n",
      "2            2181  \n",
      "3            2181  \n",
      "4            2181  \n"
     ]
    }
   ],
   "source": [
    "# Merge character metadata with plot summaries\n",
    "merged_data = pd.merge(character_metadata, plot_summaries, left_on=0, right_on=0)\n",
    "\n",
    "# Display the merged dataset\n",
    "print(merged_data.head())"
   ]
  },
  {
   "cell_type": "code",
   "execution_count": 8,
   "metadata": {},
   "outputs": [
    {
     "ename": "KeyError",
     "evalue": "1",
     "output_type": "error",
     "traceback": [
      "\u001b[0;31m---------------------------------------------------------------------------\u001b[0m",
      "\u001b[0;31mKeyError\u001b[0m                                  Traceback (most recent call last)",
      "File \u001b[0;32m/opt/anaconda3/lib/python3.12/site-packages/pandas/core/indexes/base.py:3805\u001b[0m, in \u001b[0;36mIndex.get_loc\u001b[0;34m(self, key)\u001b[0m\n\u001b[1;32m   3804\u001b[0m \u001b[38;5;28;01mtry\u001b[39;00m:\n\u001b[0;32m-> 3805\u001b[0m     \u001b[38;5;28;01mreturn\u001b[39;00m \u001b[38;5;28mself\u001b[39m\u001b[38;5;241m.\u001b[39m_engine\u001b[38;5;241m.\u001b[39mget_loc(casted_key)\n\u001b[1;32m   3806\u001b[0m \u001b[38;5;28;01mexcept\u001b[39;00m \u001b[38;5;167;01mKeyError\u001b[39;00m \u001b[38;5;28;01mas\u001b[39;00m err:\n",
      "File \u001b[0;32mindex.pyx:167\u001b[0m, in \u001b[0;36mpandas._libs.index.IndexEngine.get_loc\u001b[0;34m()\u001b[0m\n",
      "File \u001b[0;32mindex.pyx:196\u001b[0m, in \u001b[0;36mpandas._libs.index.IndexEngine.get_loc\u001b[0;34m()\u001b[0m\n",
      "File \u001b[0;32mpandas/_libs/hashtable_class_helper.pxi:7081\u001b[0m, in \u001b[0;36mpandas._libs.hashtable.PyObjectHashTable.get_item\u001b[0;34m()\u001b[0m\n",
      "File \u001b[0;32mpandas/_libs/hashtable_class_helper.pxi:7089\u001b[0m, in \u001b[0;36mpandas._libs.hashtable.PyObjectHashTable.get_item\u001b[0;34m()\u001b[0m\n",
      "\u001b[0;31mKeyError\u001b[0m: 1",
      "\nThe above exception was the direct cause of the following exception:\n",
      "\u001b[0;31mKeyError\u001b[0m                                  Traceback (most recent call last)",
      "Cell \u001b[0;32mIn[8], line 2\u001b[0m\n\u001b[1;32m      1\u001b[0m \u001b[38;5;66;03m# Ensure all plot summaries are strings and handle missing values by filling NaN with empty string\u001b[39;00m\n\u001b[0;32m----> 2\u001b[0m merged_data[\u001b[38;5;241m1\u001b[39m] \u001b[38;5;241m=\u001b[39m merged_data[\u001b[38;5;241m1\u001b[39m]\u001b[38;5;241m.\u001b[39mfillna(\u001b[38;5;124m'\u001b[39m\u001b[38;5;124m'\u001b[39m)\u001b[38;5;241m.\u001b[39mastype(\u001b[38;5;28mstr\u001b[39m)\n\u001b[1;32m      4\u001b[0m \u001b[38;5;66;03m# Now combine all the plot summaries into a single string\u001b[39;00m\n\u001b[1;32m      5\u001b[0m all_summaries \u001b[38;5;241m=\u001b[39m \u001b[38;5;124m'\u001b[39m\u001b[38;5;124m \u001b[39m\u001b[38;5;124m'\u001b[39m\u001b[38;5;241m.\u001b[39mjoin(merged_data[\u001b[38;5;241m1\u001b[39m])\n",
      "File \u001b[0;32m/opt/anaconda3/lib/python3.12/site-packages/pandas/core/frame.py:4102\u001b[0m, in \u001b[0;36mDataFrame.__getitem__\u001b[0;34m(self, key)\u001b[0m\n\u001b[1;32m   4100\u001b[0m \u001b[38;5;28;01mif\u001b[39;00m \u001b[38;5;28mself\u001b[39m\u001b[38;5;241m.\u001b[39mcolumns\u001b[38;5;241m.\u001b[39mnlevels \u001b[38;5;241m>\u001b[39m \u001b[38;5;241m1\u001b[39m:\n\u001b[1;32m   4101\u001b[0m     \u001b[38;5;28;01mreturn\u001b[39;00m \u001b[38;5;28mself\u001b[39m\u001b[38;5;241m.\u001b[39m_getitem_multilevel(key)\n\u001b[0;32m-> 4102\u001b[0m indexer \u001b[38;5;241m=\u001b[39m \u001b[38;5;28mself\u001b[39m\u001b[38;5;241m.\u001b[39mcolumns\u001b[38;5;241m.\u001b[39mget_loc(key)\n\u001b[1;32m   4103\u001b[0m \u001b[38;5;28;01mif\u001b[39;00m is_integer(indexer):\n\u001b[1;32m   4104\u001b[0m     indexer \u001b[38;5;241m=\u001b[39m [indexer]\n",
      "File \u001b[0;32m/opt/anaconda3/lib/python3.12/site-packages/pandas/core/indexes/base.py:3812\u001b[0m, in \u001b[0;36mIndex.get_loc\u001b[0;34m(self, key)\u001b[0m\n\u001b[1;32m   3807\u001b[0m     \u001b[38;5;28;01mif\u001b[39;00m \u001b[38;5;28misinstance\u001b[39m(casted_key, \u001b[38;5;28mslice\u001b[39m) \u001b[38;5;129;01mor\u001b[39;00m (\n\u001b[1;32m   3808\u001b[0m         \u001b[38;5;28misinstance\u001b[39m(casted_key, abc\u001b[38;5;241m.\u001b[39mIterable)\n\u001b[1;32m   3809\u001b[0m         \u001b[38;5;129;01mand\u001b[39;00m \u001b[38;5;28many\u001b[39m(\u001b[38;5;28misinstance\u001b[39m(x, \u001b[38;5;28mslice\u001b[39m) \u001b[38;5;28;01mfor\u001b[39;00m x \u001b[38;5;129;01min\u001b[39;00m casted_key)\n\u001b[1;32m   3810\u001b[0m     ):\n\u001b[1;32m   3811\u001b[0m         \u001b[38;5;28;01mraise\u001b[39;00m InvalidIndexError(key)\n\u001b[0;32m-> 3812\u001b[0m     \u001b[38;5;28;01mraise\u001b[39;00m \u001b[38;5;167;01mKeyError\u001b[39;00m(key) \u001b[38;5;28;01mfrom\u001b[39;00m \u001b[38;5;21;01merr\u001b[39;00m\n\u001b[1;32m   3813\u001b[0m \u001b[38;5;28;01mexcept\u001b[39;00m \u001b[38;5;167;01mTypeError\u001b[39;00m:\n\u001b[1;32m   3814\u001b[0m     \u001b[38;5;66;03m# If we have a listlike key, _check_indexing_error will raise\u001b[39;00m\n\u001b[1;32m   3815\u001b[0m     \u001b[38;5;66;03m#  InvalidIndexError. Otherwise we fall through and re-raise\u001b[39;00m\n\u001b[1;32m   3816\u001b[0m     \u001b[38;5;66;03m#  the TypeError.\u001b[39;00m\n\u001b[1;32m   3817\u001b[0m     \u001b[38;5;28mself\u001b[39m\u001b[38;5;241m.\u001b[39m_check_indexing_error(key)\n",
      "\u001b[0;31mKeyError\u001b[0m: 1"
     ]
    }
   ],
   "source": [
    "# Ensure all plot summaries are strings and handle missing values by filling NaN with empty string\n",
    "merged_data[1] = merged_data[1].fillna('').astype(str)\n",
    "\n",
    "# Now combine all the plot summaries into a single string\n",
    "all_summaries = ' '.join(merged_data[1])\n",
    "\n",
    "# You can proceed to generate the word cloud\n",
    "from wordcloud import WordCloud\n",
    "import matplotlib.pyplot as plt\n",
    "\n",
    "# Generate the word cloud\n",
    "wordcloud = WordCloud(width=800, height=400, background_color='white').generate(all_summaries)\n",
    "\n",
    "# Display the word cloud\n",
    "plt.figure(figsize=(10, 5))\n",
    "plt.imshow(wordcloud, interpolation='bilinear')\n",
    "plt.axis('off')\n",
    "plt.show()\n"
   ]
  },
  {
   "cell_type": "code",
   "execution_count": null,
   "metadata": {},
   "outputs": [],
   "source": []
  }
 ],
 "metadata": {
  "kernelspec": {
   "display_name": "Python 3",
   "language": "python",
   "name": "python3"
  },
  "language_info": {
   "codemirror_mode": {
    "name": "ipython",
    "version": 3
   },
   "file_extension": ".py",
   "mimetype": "text/x-python",
   "name": "python",
   "nbconvert_exporter": "python",
   "pygments_lexer": "ipython3",
   "version": "3.12.4"
  }
 },
 "nbformat": 4,
 "nbformat_minor": 2
}
